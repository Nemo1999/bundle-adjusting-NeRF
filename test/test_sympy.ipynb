{
 "cells": [
  {
   "cell_type": "code",
   "execution_count": 1,
   "metadata": {},
   "outputs": [],
   "source": [
    "from sympy import *"
   ]
  },
  {
   "cell_type": "code",
   "execution_count": 15,
   "metadata": {},
   "outputs": [],
   "source": [
    "s,t = symbols('s t', real=True)"
   ]
  },
  {
   "cell_type": "code",
   "execution_count": 20,
   "metadata": {},
   "outputs": [
    {
     "data": {
      "text/latex": [
       "$\\displaystyle 2 - 2 \\cos{\\left(2 \\pi s t \\right)}$"
      ],
      "text/plain": [
       "2 - 2*cos(2*pi*s*t)"
      ]
     },
     "execution_count": 20,
     "metadata": {},
     "output_type": "execute_result"
    }
   ],
   "source": [
    "transfer =  abs(1 - exp(-2* pi * I * t*s))**2\n",
    "transfer = simplify(transfer)\n",
    "transfer"
   ]
  },
  {
   "cell_type": "code",
   "execution_count": 21,
   "metadata": {},
   "outputs": [
    {
     "data": {
      "text/latex": [
       "$\\displaystyle 4 \\pi s \\sin{\\left(2 \\pi s t \\right)}$"
      ],
      "text/plain": [
       "4*pi*s*sin(2*pi*s*t)"
      ]
     },
     "execution_count": 21,
     "metadata": {},
     "output_type": "execute_result"
    }
   ],
   "source": [
    "simplify(re(diff(transfer, t)))"
   ]
  },
  {
   "cell_type": "code",
   "execution_count": 36,
   "metadata": {},
   "outputs": [
    {
     "data": {
      "text/latex": [
       "$\\displaystyle \\frac{\\sqrt{2} e^{- \\frac{t^{2}}{2 \\sigma^{2}}}}{2 \\sqrt{\\pi} \\sigma}$"
      ],
      "text/plain": [
       "sqrt(2)*exp(-t**2/(2*sigma**2))/(2*sqrt(pi)*sigma)"
      ]
     },
     "execution_count": 36,
     "metadata": {},
     "output_type": "execute_result"
    }
   ],
   "source": [
    "sigma = symbols('sigma', real=True, positive=True)\n",
    "gaussian = 1/sigma / sqrt(2 * pi) * exp(-t**2/2/sigma/sigma)\n",
    "gaussian"
   ]
  },
  {
   "cell_type": "code",
   "execution_count": 37,
   "metadata": {},
   "outputs": [
    {
     "data": {
      "text/latex": [
       "$\\displaystyle e^{- 2 \\pi^{2} s^{2} \\sigma^{2}}$"
      ],
      "text/plain": [
       "exp(-2*pi**2*s**2*sigma**2)"
      ]
     },
     "execution_count": 37,
     "metadata": {},
     "output_type": "execute_result"
    }
   ],
   "source": [
    "gaussian_freq = fourier_transform(gaussian, t, s)\n",
    "gaussian_freq"
   ]
  },
  {
   "cell_type": "code",
   "execution_count": 58,
   "metadata": {},
   "outputs": [
    {
     "name": "stdout",
     "output_type": "stream",
     "text": [
      "1 - 2 e^{- 2 \\pi^{2} s^{2} \\sigma^{2}} \\cos{\\left(2 \\pi s t \\right)} + e^{- 4 \\pi^{2} s^{2} \\sigma^{2}}\n"
     ]
    },
    {
     "data": {
      "text/latex": [
       "$\\displaystyle 1 - 2 e^{- 2 \\pi^{2} s^{2} \\sigma^{2}} \\cos{\\left(2 \\pi s t \\right)} + e^{- 4 \\pi^{2} s^{2} \\sigma^{2}}$"
      ],
      "text/plain": [
       "1 - 2*exp(-2*pi**2*s**2*sigma**2)*cos(2*pi*s*t) + exp(-4*pi**2*s**2*sigma**2)"
      ]
     },
     "execution_count": 58,
     "metadata": {},
     "output_type": "execute_result"
    }
   ],
   "source": [
    "\n",
    "transfer_half_filter = abs(gaussian_freq - exp(-2* pi * I * t*s))**2\n",
    "transfer_half_filter = simplify(re(transfer_half_filter))\n",
    "print(latex(transfer_half_filter))\n",
    "transfer_half_filter"
   ]
  },
  {
   "cell_type": "code",
   "execution_count": 57,
   "metadata": {},
   "outputs": [
    {
     "name": "stdout",
     "output_type": "stream",
     "text": [
      "4 \\pi s e^{- 2 \\pi^{2} s^{2} \\sigma^{2}} \\sin{\\left(2 \\pi s t \\right)}\n"
     ]
    },
    {
     "data": {
      "text/latex": [
       "$\\displaystyle 4 \\pi s e^{- 2 \\pi^{2} s^{2} \\sigma^{2}} \\sin{\\left(2 \\pi s t \\right)}$"
      ],
      "text/plain": [
       "4*pi*s*exp(-2*pi**2*s**2*sigma**2)*sin(2*pi*s*t)"
      ]
     },
     "execution_count": 57,
     "metadata": {},
     "output_type": "execute_result"
    }
   ],
   "source": [
    "diff_transfer_half_filter =  simplify(re(diff(transfer_half_filter, t)))\n",
    "print(latex(diff_transfer_half_filter))\n",
    "diff_transfer_half_filter"
   ]
  },
  {
   "cell_type": "code",
   "execution_count": 1,
   "metadata": {},
   "outputs": [
    {
     "ename": "NameError",
     "evalue": "name 'simplify' is not defined",
     "output_type": "error",
     "traceback": [
      "\u001b[0;31m---------------------------------------------------------------------------\u001b[0m",
      "\u001b[0;31mNameError\u001b[0m                                 Traceback (most recent call last)",
      "Cell \u001b[0;32mIn [1], line 1\u001b[0m\n\u001b[0;32m----> 1\u001b[0m simplify(re(diff(transfer_full_filter, sigma)))\n",
      "\u001b[0;31mNameError\u001b[0m: name 'simplify' is not defined"
     ]
    }
   ],
   "source": [
    "simplify(re(diff(transfer_half_filter, sigma)))"
   ]
  },
  {
   "cell_type": "code",
   "execution_count": 55,
   "metadata": {},
   "outputs": [
    {
     "name": "stdout",
     "output_type": "stream",
     "text": [
      "\\left(2 - 2 \\cos{\\left(2 \\pi s t \\right)}\\right) e^{- 2 \\pi^{2} s^{2} \\sigma^{2}}\n"
     ]
    },
    {
     "data": {
      "text/latex": [
       "$\\displaystyle \\left(2 - 2 \\cos{\\left(2 \\pi s t \\right)}\\right) e^{- 2 \\pi^{2} s^{2} \\sigma^{2}}$"
      ],
      "text/plain": [
       "(2 - 2*cos(2*pi*s*t))*exp(-2*pi**2*s**2*sigma**2)"
      ]
     },
     "execution_count": 55,
     "metadata": {},
     "output_type": "execute_result"
    }
   ],
   "source": [
    "transfer_full_filter = gaussian_freq * transfer\n",
    "print(latex(transfer_full_filter))\n",
    "transfer_full_filter"
   ]
  },
  {
   "cell_type": "code",
   "execution_count": 56,
   "metadata": {},
   "outputs": [
    {
     "name": "stdout",
     "output_type": "stream",
     "text": [
      "4 \\pi s e^{- 2 \\pi^{2} s^{2} \\sigma^{2}} \\sin{\\left(2 \\pi s t \\right)}\n"
     ]
    },
    {
     "data": {
      "text/latex": [
       "$\\displaystyle 4 \\pi s e^{- 2 \\pi^{2} s^{2} \\sigma^{2}} \\sin{\\left(2 \\pi s t \\right)}$"
      ],
      "text/plain": [
       "4*pi*s*exp(-2*pi**2*s**2*sigma**2)*sin(2*pi*s*t)"
      ]
     },
     "execution_count": 56,
     "metadata": {},
     "output_type": "execute_result"
    }
   ],
   "source": [
    "diff_transfer_full_filter = simplify(re(diff(transfer_full_filter, t)))\n",
    "print(latex(diff_transfer_full_filter))\n",
    "diff_transfer_full_filter"
   ]
  },
  {
   "cell_type": "code",
   "execution_count": 59,
   "metadata": {},
   "outputs": [
    {
     "data": {
      "text/latex": [
       "$\\displaystyle 8 \\pi^{2} s^{2} \\sigma \\left(\\cos{\\left(2 \\pi s t \\right)} - 1\\right) e^{- 2 \\pi^{2} s^{2} \\sigma^{2}}$"
      ],
      "text/plain": [
       "8*pi**2*s**2*sigma*(cos(2*pi*s*t) - 1)*exp(-2*pi**2*s**2*sigma**2)"
      ]
     },
     "execution_count": 59,
     "metadata": {},
     "output_type": "execute_result"
    }
   ],
   "source": [
    "simplify(re(diff(transfer_full_filter, sigma)))"
   ]
  },
  {
   "cell_type": "code",
   "execution_count": null,
   "metadata": {},
   "outputs": [],
   "source": []
  }
 ],
 "metadata": {
  "kernelspec": {
   "display_name": "Python 3.10.8 ('BARF')",
   "language": "python",
   "name": "python3"
  },
  "language_info": {
   "codemirror_mode": {
    "name": "ipython",
    "version": 3
   },
   "file_extension": ".py",
   "mimetype": "text/x-python",
   "name": "python",
   "nbconvert_exporter": "python",
   "pygments_lexer": "ipython3",
   "version": "3.10.8"
  },
  "orig_nbformat": 4,
  "vscode": {
   "interpreter": {
    "hash": "22d76e1a481c99a7cfc7741a26815c36016c642f00cce2b0aed5864372e28339"
   }
  }
 },
 "nbformat": 4,
 "nbformat_minor": 2
}
